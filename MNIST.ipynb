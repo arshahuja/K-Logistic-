{
 "cells": [
  {
   "cell_type": "markdown",
   "metadata": {},
   "source": [
    "# Importing libraries"
   ]
  },
  {
   "cell_type": "code",
   "execution_count": 2,
   "metadata": {},
   "outputs": [],
   "source": [
    "import pandas as pd\n",
    "import numpy as np\n",
    "from mlxtend.data import loadlocal_mnist\n",
    "import math\n",
    "import matplotlib.pyplot as plt\n",
    "%matplotlib inline"
   ]
  },
  {
   "cell_type": "markdown",
   "metadata": {},
   "source": [
    "# Load data"
   ]
  },
  {
   "cell_type": "code",
   "execution_count": 3,
   "metadata": {
    "scrolled": true
   },
   "outputs": [
    {
     "data": {
      "text/plain": [
       "(60000, 784)"
      ]
     },
     "execution_count": 3,
     "metadata": {},
     "output_type": "execute_result"
    }
   ],
   "source": [
    "#load mnist data images as X ,labels as Y (Train data)\n",
    "X, Y = loadlocal_mnist(images_path='train-images.idx3-ubyte', labels_path='train-labels.idx1-ubyte')\n",
    "#load mnist data images as x ,labels as y (Test data)\n",
    "x,y=loadlocal_mnist(images_path='t10k-images.idx3-ubyte', labels_path='t10k-labels.idx1-ubyte')\n",
    "\n",
    "#One hot encoding of training labels \n",
    "Labels=pd.get_dummies(Y)\n",
    "\n",
    "#Train data samples and features\n",
    "samples=X.shape[0]\n",
    "features=X.shape[1]\n",
    "samples,features"
   ]
  },
  {
   "cell_type": "markdown",
   "metadata": {},
   "source": [
    "# Logistic Regression Model "
   ]
  },
  {
   "cell_type": "code",
   "execution_count": 25,
   "metadata": {},
   "outputs": [],
   "source": [
    "class LogisticRegression():\n",
    "    def __init__(self):\n",
    "        #initialise betas as zeros \n",
    "        self.betas=np.zeros((features+1,1))\n",
    "    \n",
    "    def fit(self,X_train,y_train): # X , Labels[0]\n",
    "        samples=X_train.shape[0]\n",
    "        features=X_train.shape[1]\n",
    "        # adding one's column in X\n",
    "        ones_array=np.ones(samples).reshape(samples,1)\n",
    "        X=(np.append(ones_array,X_train/255,axis=1))\n",
    "        Y=np.array(y_train).reshape(-1,1)\n",
    "        \n",
    "        #initialise betas \n",
    "        #betas=np.random.rand(features+1,1)/100\n",
    "        \n",
    "        one_minus_Y=ones_array-Y\n",
    "        z=np.dot(X,self.betas)\n",
    "        #print(z)\n",
    "        for i in range(100):\n",
    "            y_hat=np.ones((samples,1))\n",
    "\n",
    "            #e_z=np.exp(-z)\n",
    "\n",
    "            for i in range(len(z)):\n",
    "                y_hat[i]= 1/(1 +math.exp(-z[i]))\n",
    "            #print(y_hat)    \n",
    "\n",
    "            one_minus_y_hat=ones_array-y_hat\n",
    "            derivative=(np.dot(np.transpose(X),Y-y_hat))/samples\n",
    "            self.betas=self.betas+0.1*derivative\n",
    "            max_log_likelihood=-(Y*np.log(y_hat) + one_minus_Y*np.log(one_minus_y_hat))\n",
    "            z=np.dot(X,self.betas)\n",
    "        #print(np.mean(max_log_likelihood))\n",
    "\n",
    "    def predict(self,X_test):\n",
    "        ones_array=np.ones(X_test.shape[0]).reshape(X_test.shape[0],1)\n",
    "        X=(np.append(ones_array,X_test/255,axis=1))\n",
    "        z=np.dot(X,self.betas)\n",
    "        y_hat=np.ones((X_test.shape[0],1))\n",
    "        for i in range(len(z)):\n",
    "            y_hat[i]= 1/(1 +math.exp(-z[i]))\n",
    "        return y_hat        "
   ]
  },
  {
   "cell_type": "markdown",
   "metadata": {},
   "source": [
    "# Implementing k-logistic regression"
   ]
  },
  {
   "cell_type": "code",
   "execution_count": 27,
   "metadata": {},
   "outputs": [],
   "source": [
    "lr=LogisticRegression()"
   ]
  },
  {
   "cell_type": "code",
   "execution_count": 40,
   "metadata": {},
   "outputs": [],
   "source": [
    "pred_labels={}\n",
    "for i in range(10):\n",
    "    lr.fit(X,Labels[i])\n",
    "    pred_labels[i]=lr.predict(x)"
   ]
  },
  {
   "cell_type": "code",
   "execution_count": 41,
   "metadata": {},
   "outputs": [],
   "source": [
    "# Saving predicted values/probab.\n",
    "import pickle\n",
    "pickle.dump(pred_labels,open('klogreg.pickle','wb'))"
   ]
  },
  {
   "cell_type": "code",
   "execution_count": 63,
   "metadata": {},
   "outputs": [],
   "source": [
    "# Getting predicted labels\n",
    "pred=np.zeros((pred_labels[0].shape[0]))\n",
    "for j in range(pred_labels[0].shape[0]):\n",
    "    max=-1\n",
    "    for i in range(10):\n",
    "        if float(pred_labels[i][j]) >max:\n",
    "            max=float(pred_labels[i][j])\n",
    "            pred[j]=i"
   ]
  },
  {
   "cell_type": "code",
   "execution_count": 77,
   "metadata": {},
   "outputs": [
    {
     "name": "stdout",
     "output_type": "stream",
     "text": [
      "Accuracy is 84.06%\n"
     ]
    }
   ],
   "source": [
    "# Finding accuracy\n",
    "print(f\"Accuracy is {(np.bincount(abs(y-pred.astype(int)))[0]/pred_labels[0].shape[0])*100}%\")"
   ]
  },
  {
   "cell_type": "code",
   "execution_count": null,
   "metadata": {},
   "outputs": [],
   "source": []
  }
 ],
 "metadata": {
  "kernelspec": {
   "display_name": "Python 3",
   "language": "python",
   "name": "python3"
  },
  "language_info": {
   "codemirror_mode": {
    "name": "ipython",
    "version": 3
   },
   "file_extension": ".py",
   "mimetype": "text/x-python",
   "name": "python",
   "nbconvert_exporter": "python",
   "pygments_lexer": "ipython3",
   "version": "3.6.5"
  }
 },
 "nbformat": 4,
 "nbformat_minor": 2
}
